{
 "cells": [
  {
   "cell_type": "code",
   "execution_count": 93,
   "id": "e69acc9d",
   "metadata": {},
   "outputs": [],
   "source": [
    "import math"
   ]
  },
  {
   "cell_type": "code",
   "execution_count": 110,
   "id": "a825831f",
   "metadata": {},
   "outputs": [],
   "source": [
    "n = 3\n",
    "\n",
    "a = 2\n",
    "b = 3\n",
    "#c = 7"
   ]
  },
  {
   "cell_type": "code",
   "execution_count": 111,
   "id": "1f52623a",
   "metadata": {},
   "outputs": [
    {
     "name": "stdout",
     "output_type": "stream",
     "text": [
      "13\n",
      "3.605551275463989\n"
     ]
    }
   ],
   "source": [
    "# Pythag truth\n",
    "c_2 = a**2 + b**2\n",
    "print(c_2)\n",
    "c = math.sqrt(c_2)\n",
    "print(c)"
   ]
  },
  {
   "cell_type": "code",
   "execution_count": 113,
   "id": "0df6763e",
   "metadata": {},
   "outputs": [
    {
     "name": "stdout",
     "output_type": "stream",
     "text": [
      "35\n"
     ]
    }
   ],
   "source": [
    "test_ab = a**n + b**n\n",
    "print(test_ab)"
   ]
  },
  {
   "cell_type": "code",
   "execution_count": 114,
   "id": "7047d751",
   "metadata": {},
   "outputs": [
    {
     "name": "stdout",
     "output_type": "stream",
     "text": [
      "46.872166581031856\n"
     ]
    }
   ],
   "source": [
    "test_c = c**n\n",
    "print(test_c)"
   ]
  },
  {
   "cell_type": "code",
   "execution_count": null,
   "id": "dede76f5",
   "metadata": {},
   "outputs": [],
   "source": []
  }
 ],
 "metadata": {
  "kernelspec": {
   "display_name": "Python 3 (ipykernel)",
   "language": "python",
   "name": "python3"
  },
  "language_info": {
   "codemirror_mode": {
    "name": "ipython",
    "version": 3
   },
   "file_extension": ".py",
   "mimetype": "text/x-python",
   "name": "python",
   "nbconvert_exporter": "python",
   "pygments_lexer": "ipython3",
   "version": "3.9.12"
  }
 },
 "nbformat": 4,
 "nbformat_minor": 5
}
